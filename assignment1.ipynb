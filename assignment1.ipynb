{
 "cells": [
  {
   "cell_type": "markdown",
   "id": "933a9dea-7944-4e6a-9df0-85ad70f7d305",
   "metadata": {},
   "source": [
    "Q1. Explain with an example each when to use a for loop and a while loop.\n",
    "Ans. For loop is loop that reapets something in a given range.The range has a starting point ,ending point and a gap in it."
   ]
  },
  {
   "cell_type": "code",
   "execution_count": 1,
   "id": "22d79628-396e-46e5-81eb-9e3debb216b2",
   "metadata": {},
   "outputs": [
    {
     "name": "stdout",
     "output_type": "stream",
     "text": [
      "1\n",
      "3\n",
      "5\n",
      "7\n",
      "9\n"
     ]
    }
   ],
   "source": [
    "for i in range(1,11,2):\n",
    "    print(i)"
   ]
  },
  {
   "cell_type": "code",
   "execution_count": 2,
   "id": "7456f02f-8f8e-4cf2-a78f-0e0f700a3a4f",
   "metadata": {},
   "outputs": [
    {
     "name": "stdout",
     "output_type": "stream",
     "text": [
      "5 * 1 = 5\n",
      "5 * 2 = 10\n",
      "5 * 3 = 15\n",
      "5 * 4 = 20\n",
      "5 * 5 = 25\n",
      "5 * 6 = 30\n",
      "5 * 7 = 35\n",
      "5 * 8 = 40\n",
      "5 * 9 = 45\n",
      "5 * 10 = 50\n"
     ]
    }
   ],
   "source": [
    "a=5\n",
    "for i in range(1,11):\n",
    "    print(a,\"*\",i ,\"=\" ,a*i)"
   ]
  },
  {
   "cell_type": "code",
   "execution_count": null,
   "id": "f55e63a2-23be-4123-ad4d-cc42f64c4077",
   "metadata": {},
   "outputs": [],
   "source": []
  },
  {
   "cell_type": "markdown",
   "id": "70733320-e961-4f22-807a-ff8b3bf52add",
   "metadata": {},
   "source": [
    "while loop execute till give condition is true.in while loop the increment done inside the loop"
   ]
  },
  {
   "cell_type": "code",
   "execution_count": null,
   "id": "30bc9569-18ee-43af-a0b5-9a81dffb63d9",
   "metadata": {},
   "outputs": [],
   "source": [
    "a=0\n",
    "while a<=10:\n",
    "    print(a)\n",
    "    a+=2"
   ]
  },
  {
   "cell_type": "markdown",
   "id": "af68a699-b334-47b9-80b5-ad1a30a0cc2d",
   "metadata": {},
   "source": [
    "Q.2 Write a python program to print the sum and product of the first 10 natural numbers using for\n",
    "and while loop.\n",
    "\n",
    "Ans. "
   ]
  },
  {
   "cell_type": "code",
   "execution_count": null,
   "id": "20e32010-203c-45e5-9348-798a9c6e3193",
   "metadata": {},
   "outputs": [],
   "source": [
    "\n",
    "i = 1\n",
    "a= 10\n",
    "\n",
    "\n",
    "while i <= a:\n",
    "    print(i)\n",
    "    i = i + 1\n",
    "    "
   ]
  },
  {
   "cell_type": "code",
   "execution_count": null,
   "id": "e1bc4e23-9d97-42cc-94ef-2be152120a5d",
   "metadata": {},
   "outputs": [],
   "source": [
    "\n",
    "Q3. Create a python program to compute the electricity bill for a household.\n",
    "\n",
    "The per-unit charges in rupees are as follows: For the first 100 units, the user will be charged Rs. 4.5 per\n",
    "unit, for the next 100 units, the user will be charged Rs. 6 per unit, and for the next 100 units, the user will\n",
    "be charged Rs. 10 per unit, After 300 units and above the user will be charged Rs. 20 per unit.\n",
    "You are required to take the units of electricity consumed in a month from the user as input.\n",
    "Your program must pass this test case: when the unit of electricity consumed by the user in a month is\n",
    "310, the total electricity bill should be 2250.\n",
    "\n",
    "Ans. \n",
    "\n",
    "def calculateBill(units):\n",
    " \n",
    "    if (units <= 100):\n",
    "      \n",
    "        return (units * 4.5);\n",
    "     \n",
    "    elif (units <= 200):\n",
    "     \n",
    "        return ((100 * 4.5) +\n",
    "                (units - 100) * 6);\n",
    "     \n",
    "    elif (units <= 300):\n",
    "      \n",
    "        return ((100 * 4.5) +\n",
    "                (100 * 6) +\n",
    "                (units - 200) * 10);\n",
    "     \n",
    "    elif (units > 300):\n",
    "     \n",
    "        return ((100 * 4.5) +\n",
    "                (100 * 6) +\n",
    "                (100 * 10) +\n",
    "                (units - 300) * 20);\n",
    "     \n",
    "    return 0;"
   ]
  },
  {
   "cell_type": "markdown",
   "id": "6671f305-6fb0-4ea8-bdae-3b609ae1c355",
   "metadata": {},
   "source": [
    "Q5.\n",
    "\n",
    "ANSWER\n",
    "\n",
    "a= \"I want to become a data scientist\"\n",
    "count = 0\n",
    "i = 0\n",
    "for i in range(len(a)):\n",
    "    if (\n",
    "        (a[i] == \"a\")\n",
    "        or (a[i] == \"e\")\n",
    "        or (a[i] == \"i\")\n",
    "        or (a[i] == \"o\")\n",
    "        or (a[i] == \"u\")\n",
    "    ):\n",
    "        count += 1\n",
    "\n",
    "print(\"Number of vowels in the given string is: \", count)."
   ]
  }
 ],
 "metadata": {
  "kernelspec": {
   "display_name": "Python 3 (ipykernel)",
   "language": "python",
   "name": "python3"
  },
  "language_info": {
   "codemirror_mode": {
    "name": "ipython",
    "version": 3
   },
   "file_extension": ".py",
   "mimetype": "text/x-python",
   "name": "python",
   "nbconvert_exporter": "python",
   "pygments_lexer": "ipython3",
   "version": "3.10.8"
  }
 },
 "nbformat": 4,
 "nbformat_minor": 5
}

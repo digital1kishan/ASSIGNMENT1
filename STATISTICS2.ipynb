{
 "cells": [
  {
   "cell_type": "markdown",
   "id": "0e80e6c4-8630-4302-a224-70b5bbfbc669",
   "metadata": {},
   "source": [
    "Q1. What are the three measures of central tendency?\n",
    "Ans..The three measures of central tendency are:\n",
    "\n",
    "Mean: The mean is the sum of all the values in a dataset divided by the total number of values. It represents the average value of the data.\n",
    "Median: The median is the middle value in a dataset when the values are arranged in order. It is the value that separates the upper half of the data from the lower half.\n",
    "Mode: The mode is the value that occurs most frequently in a dataset. It is the value that is the most common in the data."
   ]
  },
  {
   "cell_type": "markdown",
   "id": "73484eac-afe9-4b25-a3c8-88fb668c57e6",
   "metadata": {},
   "source": [
    "Q2. What is the difference between the mean, median, and mode? How are they used to measure the\n",
    "central tendency of a dataset?\n",
    "Ans...The main differences between the mean, median, and mode are:\n",
    "\n",
    "Mean: The mean is the arithmetic average of a dataset. It is calculated by adding up all the values in the dataset and then dividing by the total number of values. The mean is sensitive to extreme values, or outliers, which can significantly affect the average value.\n",
    "Median: The median is the middle value in a dataset when the values are arranged in order. If there is an even number of values, the median is calculated as the average of the two middle values. The median is less sensitive to outliers than the mean and provides a better measure of the typical value in skewed datasets.\n",
    "Mode: The mode is the value that occurs most frequently in a dataset. If there are two values that occur with the same frequency, the dataset is considered bimodal. The mode is useful for describing the most common value or values in a dataset.\n",
    "These measures are used to measure the central tendency of a dataset because they provide a single value that represents the typical or central value of the data. The choice of measure depends on the nature of the data and the purpose of the analysis. For example, the mean is commonly used for normally distributed data, while the median is used for skewed data. The mode is useful for categorical data or discrete data with a small number of distinct values."
   ]
  },
  {
   "cell_type": "markdown",
   "id": "2ed0ee4d-ca05-421e-a58e-bd5337781a3f",
   "metadata": {},
   "source": [
    "Q3. Measure the three measures of central tendency for the given height data:\n",
    "[178,177,176,177,178.2,178,175,179,180,175,178.9,176.2,177,172.5,178,176.5]\n",
    "Ans..To calculate the three measures of central tendency for the given height data, we have:\n",
    "\n",
    "Mean = (178 + 177 + 176 + 177 + 178.2 + 178 + 175 + 179 + 180 + 175 + 178.9 + 176.2 + 177 + 172.5 + 178 + 176.5) / 16\n",
    "Mean = 177.7\n",
    "\n",
    "Median = Arrange the data in ascending order: 172.5, 175, 175, 176, 176.2, 176.5, 177, 177, 178, 178, 178, 178.2, 178.9, 179, 180\n",
    "The median is the middle value, which is 177.5\n",
    "\n",
    "Mode = The value that occurs most frequently is 178.\n",
    "\n",
    "Therefore, the measures of central tendency for the given height data are:\n",
    "\n",
    "Mean = 177.7\n",
    "Median = 177.5\n",
    "Mode = 178"
   ]
  },
  {
   "cell_type": "markdown",
   "id": "c2c76222-f3c7-4bc4-9f45-9b946dbbfe1f",
   "metadata": {},
   "source": [
    "Q4. Find the standard deviation for the given data:\n",
    "[178,177,176,177,178.2,178,175,179,180,175,178.9,176.2,177,172.5,178,176.5]\n",
    "\n",
    "Ans...\n",
    "To find the standard deviation for the given data, we can use the following formula:\n",
    "\n",
    "Standard deviation = sqrt [ Σ ( xi - μ )^2 / N ]\n",
    "\n",
    "Where xi is the ith value of the data, μ is the mean of the data, and N is the total number of values in the data.\n",
    "\n",
    "First, we need to calculate the mean of the data:\n",
    "\n",
    "Mean = (178 + 177 + 176 + 177 + 178.2 + 178 + 175 + 179 + 180 + 175 + 178.9 + 176.2 + 177 + 172.5 + 178 + 176.5) / 16\n",
    "Mean = 177.7\n",
    "\n",
    "Next, we can calculate the sum of squares of deviations from the mean:\n",
    "\n",
    "Σ ( xi - μ )^2 = (178 - 177.7)^2 + (177 - 177.7)^2 + (176 - 177.7)^2 + (177 - 177.7)^2 + (178.2 - 177.7)^2 + (178 - 177.7)^2 + (175 - 177.7)^2 + (179 - 177.7)^2 + (180 - 177.7)^2 + (175 - 177.7)^2 + (178.9 - 177.7)^2 + (176.2 - 177.7)^2 + (177 - 177.7)^2 + (172.5 - 177.7)^2 + (178 - 177.7)^2 + (176.5 - 177.7)^2\n",
    "\n",
    "Σ ( xi - μ )^2 = 463.34\n",
    "\n",
    "Finally, we can use the formula to find the standard deviation:\n",
    "\n",
    "Standard deviation = sqrt [ Σ ( xi - μ )^2 / N ]\n",
    "Standard deviation = sqrt [ 463.34 / 16 ]\n",
    "Standard deviation = sqrt [ 28.95875 ]\n",
    "Standard deviation = 5.381\n",
    "\n",
    "Therefore, the standard deviation for the given data is approximately 5.381.\n"
   ]
  },
  {
   "cell_type": "markdown",
   "id": "321afe18-547d-405d-858a-11eb7d5a1998",
   "metadata": {},
   "source": [
    "Q5. How are measures of dispersion such as range, variance, and standard deviation used to describe\n",
    "the spread of a dataset? Provide an example.\n",
    "Ans...\n",
    "Measures of dispersion such as range, variance, and standard deviation are used to describe the spread or variability of a dataset. These measures provide information about how spread out the data values are from the central tendency measures such as mean, median, or mode.\n",
    "\n",
    "Range: The range is the difference between the maximum and minimum values in a dataset. It is a simple measure of dispersion that describes the spread of the data from the lowest value to the highest value. For example, if we have a dataset of test scores for a class, the range would tell us the difference between the highest and lowest score.\n",
    "Variance: The variance is the average of the squared deviations from the mean of a dataset. It measures how far each value in the dataset is from the mean. A high variance indicates that the data values are spread out over a larger range, while a low variance indicates that the data values are clustered closely around the mean. For example, if we have a dataset of salaries for a company, the variance would tell us how spread out the salaries are from the average salary.\n",
    "Standard deviation: The standard deviation is the square root of the variance. It is a widely used measure of dispersion that indicates how much the data values deviate from the mean. A higher standard deviation indicates that the data values are more spread out from the mean, while a lower standard deviation indicates that the data values are closer to the mean. For example, if we have a dataset of weights for a group of people, the standard deviation would tell us how much the weights vary from the average weight.\n",
    "Overall, measures of dispersion are used to provide additional information about the distribution of data beyond just the central tendency measures. They help to describe the spread of the data, which is important for understanding the variability and diversity of the values in the dataset.\n"
   ]
  },
  {
   "cell_type": "markdown",
   "id": "79326f6b-0a8f-45de-a27e-14e49cb75329",
   "metadata": {},
   "source": [
    "Q6. What is a Venn diagram?\n",
    "Ans...\n",
    "A Venn diagram is a graphical representation of the relationships between sets of data. It is composed of overlapping circles or other closed shapes, with each shape representing a set and the overlapping area representing the intersection of the sets.\n",
    "\n",
    "Venn diagrams are commonly used to illustrate set relationships, such as the similarities and differences between groups of data. The overlapping areas of the circles represent the shared characteristics between the sets, while the non-overlapping areas represent the unique characteristics of each set.\n"
   ]
  },
  {
   "cell_type": "markdown",
   "id": "635d1a88-23f1-468d-9ec4-47a0bada5a0b",
   "metadata": {},
   "source": [
    "Q7. For the two given sets A = (2,3,4,5,6,7) & B = (0,2,6,8,10). Find:\n",
    "(i) A B\n",
    "(ii) A ⋃ B\n",
    "\n",
    "Ans...(i) A intersect B: The intersection of two sets is the set of elements that are in both sets. In this case, the elements that are in both A and B are 2 and 6, so:\n",
    "\n",
    "A intersect B = {2,6}\n",
    "\n",
    "(ii) A union B: The union of two sets is the set of all elements that are in either set. In this case, the elements that are in either A or B are:\n",
    "\n",
    "A = {2,3,4,5,6,7}\n",
    "\n",
    "B = {0,2,6,8,10}\n",
    "\n",
    "A union B = {0,2,3,4,5,6,7,8,10}\n",
    "\n",
    "Therefore, the answers are:\n",
    "\n",
    "(i) A intersect B = {2,6}\n",
    "\n",
    "(ii) A union B = {0,2,3,4,5,6,7,8,10}"
   ]
  },
  {
   "cell_type": "markdown",
   "id": "1ebb944a-387f-46ea-aae4-8689ca961830",
   "metadata": {},
   "source": [
    "Q8. What do you understand about skewness in data?\n",
    "\n",
    "Ans..Skewness in data is a measure of the degree of asymmetry in a dataset. It indicates the extent to which a distribution is not symmetrical around its mean.\n",
    "\n",
    "A symmetrical distribution has no skewness and is perfectly balanced around its center. However, in a skewed distribution, one tail of the distribution is longer or stretched out than the other tail, which is shorter or compressed. The direction of the longer tail determines the type of skewness:\n",
    "\n",
    "Positive skewness: When the longer tail is on the positive or right side of the distribution, it is called positive skewness. In this case, the mean is greater than the median, and the distribution is concentrated on the left side of the graph.\n",
    "Negative skewness: When the longer tail is on the negative or left side of the distribution, it is called negative skewness. In this case, the mean is less than the median, and the distribution is concentrated on the right side of the graph.\n",
    "Skewness is an important aspect of data analysis, as it can affect the validity of statistical tests and the interpretation of results. Skewed data can also impact the choice of central tendency measure, as the median may be a better representation of the typical value than the mean. In addition, skewed data may require special statistical techniques, such as transformations or nonparametric tests, to properly analyze the data."
   ]
  },
  {
   "cell_type": "markdown",
   "id": "af84360f-5710-4c03-966d-9f7cbf6b6a31",
   "metadata": {},
   "source": [
    "Q9. If a data is right skewed then what will be the position of median with respect to mean?\n",
    "\n",
    "Ans...\n",
    "If a data is right skewed, then the median will be less than the mean. In a right-skewed distribution, the tail of the distribution is longer on the right-hand side, meaning that there are some extreme values that are pulling the mean to the right of the median.\n",
    "\n",
    "For example, consider a dataset of exam scores where the distribution is right-skewed. This means that there are some high scores that are pulling the mean up, but the majority of the scores are clustered around the lower end of the distribution. In this case, the median, which is the score that separates the top 50% of scores from the bottom 50%, will be less than the mean, which is the average of all the scores."
   ]
  },
  {
   "cell_type": "markdown",
   "id": "2428f037-4d78-4ed4-aa07-4b7e60203749",
   "metadata": {},
   "source": [
    "Q10. Explain the difference between covariance and correlation. How are these measures used in\n",
    "statistical analysis?\n",
    "Ans...Covariance and correlation are both measures of the relationship between two variables in a dataset, but they differ in the way they scale and interpret the strength of the relationship.\n",
    "\n",
    "Covariance measures how two variables vary together. It is calculated as the average of the products of the deviations of each variable from its respective mean. A positive covariance indicates that the variables tend to increase or decrease together, while a negative covariance indicates that the variables tend to move in opposite directions. However, the magnitude of the covariance is not standardized, so it is difficult to compare covariances between datasets or variables with different scales.\n",
    "\n",
    "Correlation, on the other hand, is a standardized measure of the relationship between two variables. It is calculated as the covariance between the variables divided by the product of their standard deviations. Correlation ranges from -1 to 1, where -1 indicates a perfectly negative correlation, 0 indicates no correlation, and 1 indicates a perfectly positive correlation. Correlation measures the strength of the linear relationship between the variables, so it is sensitive to outliers and non-linear relationships."
   ]
  },
  {
   "cell_type": "markdown",
   "id": "2682c020-05bd-4a93-9d5b-924fcda63240",
   "metadata": {},
   "source": [
    "Q11. What is the formula for calculating the sample mean? Provide an example calculation for a\n",
    "dataset.\n",
    "Ans...\n",
    "\n",
    "The formula for calculating the sample mean is:\n",
    "\n",
    "Sample Mean = (Sum of all values in the sample) / (Total number of values in the sample)\n",
    "\n",
    "For example, suppose we have the following dataset of test scores for 10 students:\n",
    "\n",
    "{85, 90, 92, 78, 89, 80, 88, 91, 86, 83}\n",
    "\n",
    "To calculate the sample mean, we add up all the values in the dataset and divide by the total number of values:\n",
    "\n",
    "Sample Mean = (85 + 90 + 92 + 78 + 89 + 80 + 88 + 91 + 86 + 83) / 10\n",
    "\n",
    "Sample Mean = 862 / 10\n",
    "\n",
    "Sample Mean = 86.2\n",
    "\n",
    "Therefore, the sample mean for this dataset is 86.2, which represents the average test score for the 10 students."
   ]
  },
  {
   "cell_type": "markdown",
   "id": "33106371-1d21-4be8-a5a1-779debd48483",
   "metadata": {},
   "source": [
    "Q12. For a normal distribution data what is the relationship between its measure of central tendency?\n",
    "Ans...For a normal distribution, the measures of central tendency (mean, median, and mode) are equal to each other. This means that the mean, median, and mode will all be located at the center of the normal distribution. The normal distribution is a symmetric distribution with a bell-shaped curve, and the mean, median, and mode will all be located at the peak or center of the curve. This property of a normal distribution makes it easy to describe the data and make predictions about future observations."
   ]
  },
  {
   "cell_type": "markdown",
   "id": "4eff9074-94ab-4918-8215-9b871698e40b",
   "metadata": {},
   "source": [
    "Q13. How is covariance different from correlation?\n",
    "Ans...\n",
    "Covariance and correlation are both measures of the relationship between two variables in a dataset, but they differ in their scale and interpretation.\n",
    "\n",
    "Covariance is a measure of how two variables change together. It is calculated as the average of the product of the deviations of each variable from their respective means. A positive covariance indicates that the two variables tend to increase or decrease together, while a negative covariance indicates that they tend to move in opposite directions. The magnitude of the covariance depends on the scale of the variables, making it difficult to compare covariances between datasets with different scales.\n",
    "\n",
    "Correlation, on the other hand, is a standardized measure of the relationship between two variables. It is calculated as the covariance between the two variables divided by the product of their standard deviations. Correlation takes on values between -1 and 1, with a value of 1 indicating a perfect positive relationship, a value of -1 indicating a perfect negative relationship, and a value of 0 indicating no relationship.\n",
    "\n",
    "In summary, covariance measures the direction and strength of the relationship between two variables, but its value depends on the scale of the variables. Correlation, on the other hand, measures the strength and direction of the relationship between two variables on a standardized scale, making it easier to compare relationships across different datasets."
   ]
  },
  {
   "cell_type": "code",
   "execution_count": null,
   "id": "26659668-3f4e-43dd-beb6-758d6df0844d",
   "metadata": {},
   "outputs": [],
   "source": [
    "Q14. How do outliers affect measures of central tendency and dispersion? Provide an example."
   ]
  }
 ],
 "metadata": {
  "kernelspec": {
   "display_name": "Python 3 (ipykernel)",
   "language": "python",
   "name": "python3"
  },
  "language_info": {
   "codemirror_mode": {
    "name": "ipython",
    "version": 3
   },
   "file_extension": ".py",
   "mimetype": "text/x-python",
   "name": "python",
   "nbconvert_exporter": "python",
   "pygments_lexer": "ipython3",
   "version": "3.10.8"
  }
 },
 "nbformat": 4,
 "nbformat_minor": 5
}
